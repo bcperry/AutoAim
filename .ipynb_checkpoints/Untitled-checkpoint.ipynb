{
 "cells": [
  {
   "cell_type": "code",
   "execution_count": null,
   "id": "f669dbdb-d9c0-49f5-bff3-ec29f8e055dc",
   "metadata": {},
   "outputs": [],
   "source": [
    "mss, pyautogui"
   ]
  },
  {
   "cell_type": "code",
   "execution_count": null,
   "id": "46bd678d-cb7c-4419-8e26-e9c6e5b9236d",
   "metadata": {},
   "outputs": [],
   "source": [
    "import numpy as np\n",
    "import cv2\n",
    "from mss import mss\n",
    "from PIL import Image\n",
    "\n",
    "sct = mss()\n",
    "\n",
    "while 1:\n",
    "    w, h = 256, 160\n",
    "    monitor = {'top': 0, 'left': 0, 'width': w, 'height': h}\n",
    "    img = Image.frombytes('RGB', (w,h), sct.grab(monitor).rgb)\n",
    "    cv2.imshow('test', cv2.cvtColor(np.array(img), cv2.COLOR_RGB2BGR))\n",
    "    if cv2.waitKey(0) & 0xFF == ord('q'):\n",
    "        cv2.destroyAllWindows()\n",
    "        break\n"
   ]
  },
  {
   "cell_type": "code",
   "execution_count": 1,
   "id": "ff15562e-4d1b-42ae-8d2f-e04439d28b63",
   "metadata": {},
   "outputs": [],
   "source": [
    "import autopy\n",
    "autopy.mouse.smooth_move(500, 500)"
   ]
  },
  {
   "cell_type": "code",
   "execution_count": 12,
   "id": "94c6e33a-7fc1-49d7-90e6-50f7ffa9cf59",
   "metadata": {},
   "outputs": [],
   "source": [
    "import pyautogui\n",
    "pyautogui.moveTo(100, 200, 0.25)   "
   ]
  },
  {
   "cell_type": "code",
   "execution_count": 12,
   "id": "14b2704e-bcb6-497e-a4a9-f2220ed4ea9c",
   "metadata": {},
   "outputs": [
    {
     "ename": "KeyboardInterrupt",
     "evalue": "",
     "output_type": "error",
     "traceback": [
      "\u001b[1;31m---------------------------------------------------------------------------\u001b[0m",
      "\u001b[1;31mKeyboardInterrupt\u001b[0m                         Traceback (most recent call last)",
      "\u001b[1;32m<ipython-input-12-47bc437636f6>\u001b[0m in \u001b[0;36m<module>\u001b[1;34m\u001b[0m\n\u001b[0;32m     23\u001b[0m \u001b[1;33m\u001b[0m\u001b[0m\n\u001b[0;32m     24\u001b[0m \u001b[1;33m\u001b[0m\u001b[0m\n\u001b[1;32m---> 25\u001b[1;33m \u001b[0msine_mouse_wave\u001b[0m\u001b[1;33m(\u001b[0m\u001b[1;33m)\u001b[0m\u001b[1;33m\u001b[0m\u001b[1;33m\u001b[0m\u001b[0m\n\u001b[0m",
      "\u001b[1;32m<ipython-input-12-47bc437636f6>\u001b[0m in \u001b[0;36msine_mouse_wave\u001b[1;34m()\u001b[0m\n\u001b[0;32m     20\u001b[0m         \u001b[0my\u001b[0m \u001b[1;33m=\u001b[0m \u001b[0mint\u001b[0m\u001b[1;33m(\u001b[0m\u001b[0mheight\u001b[0m \u001b[1;33m*\u001b[0m \u001b[0mmath\u001b[0m\u001b[1;33m.\u001b[0m\u001b[0msin\u001b[0m\u001b[1;33m(\u001b[0m\u001b[1;33m(\u001b[0m\u001b[0mTWO_PI\u001b[0m \u001b[1;33m*\u001b[0m \u001b[0mx\u001b[0m\u001b[1;33m)\u001b[0m \u001b[1;33m/\u001b[0m \u001b[0mwidth\u001b[0m\u001b[1;33m)\u001b[0m \u001b[1;33m+\u001b[0m \u001b[0mheight\u001b[0m\u001b[1;33m)\u001b[0m\u001b[1;33m\u001b[0m\u001b[1;33m\u001b[0m\u001b[0m\n\u001b[0;32m     21\u001b[0m         \u001b[0mautopy\u001b[0m\u001b[1;33m.\u001b[0m\u001b[0mmouse\u001b[0m\u001b[1;33m.\u001b[0m\u001b[0mmove\u001b[0m\u001b[1;33m(\u001b[0m\u001b[0mx\u001b[0m\u001b[1;33m,\u001b[0m \u001b[0my\u001b[0m\u001b[1;33m)\u001b[0m\u001b[1;33m\u001b[0m\u001b[1;33m\u001b[0m\u001b[0m\n\u001b[1;32m---> 22\u001b[1;33m         \u001b[0mtime\u001b[0m\u001b[1;33m.\u001b[0m\u001b[0msleep\u001b[0m\u001b[1;33m(\u001b[0m\u001b[1;36m.00000001\u001b[0m\u001b[1;33m)\u001b[0m\u001b[1;33m\u001b[0m\u001b[1;33m\u001b[0m\u001b[0m\n\u001b[0m\u001b[0;32m     23\u001b[0m \u001b[1;33m\u001b[0m\u001b[0m\n\u001b[0;32m     24\u001b[0m \u001b[1;33m\u001b[0m\u001b[0m\n",
      "\u001b[1;31mKeyboardInterrupt\u001b[0m: "
     ]
    }
   ],
   "source": [
    "import autopy\n",
    "import math\n",
    "import time\n",
    "import random\n",
    "import sys\n",
    "\n",
    "TWO_PI = math.pi * 2.0\n",
    "\n",
    "\n",
    "def sine_mouse_wave():\n",
    "    \"\"\"\n",
    "    Moves the mouse in a sine wave from the left edge of\n",
    "    the screen to the right.\n",
    "    \"\"\"\n",
    "    width, height = autopy.screen.size()\n",
    "    height /= 2\n",
    "    height -= 10  # Stay in the screen bounds.\n",
    "\n",
    "    for x in range(int(width)):\n",
    "        y = int(height * math.sin((TWO_PI * x) / width) + height)\n",
    "        autopy.mouse.move(x, y)\n",
    "        time.sleep(.00000001)\n",
    "\n",
    "\n",
    "sine_mouse_wave()"
   ]
  },
  {
   "cell_type": "code",
   "execution_count": 14,
   "id": "9339b3c3-6106-4638-b26f-a481cc3b1adc",
   "metadata": {},
   "outputs": [],
   "source": [
    "import pyautogui\n",
    "import pydirectinput\n",
    "import autopy\n",
    "import math\n",
    "import time\n",
    "\n",
    "TWO_PI = math.pi * 2.0\n",
    "\n",
    "def sine_mouse_wave2():\n",
    "    \"\"\"\n",
    "    Moves the mouse in a sine wave from the left edge of\n",
    "    the screen to the right.\n",
    "    \"\"\"\n",
    "    width, height = autopy.screen.size()\n",
    "    height /= 2\n",
    "    height -= 10  # Stay in the screen bounds.\n",
    "\n",
    "    for x in range(int(width)):\n",
    "        y = int(height * math.sin((TWO_PI * x) / width) + height)\n",
    "        pydirectinput.moveTo(x, y, _pause=False)\n",
    "        #time.sleep(.00000001)\n",
    "\n",
    "\n",
    "sine_mouse_wave2()"
   ]
  },
  {
   "cell_type": "code",
   "execution_count": null,
   "id": "a5637a35-e60e-4210-9876-18209fa57380",
   "metadata": {},
   "outputs": [],
   "source": []
  },
  {
   "cell_type": "code",
   "execution_count": null,
   "id": "2e329d45-4108-48e6-92c8-17ea558d6626",
   "metadata": {},
   "outputs": [],
   "source": []
  },
  {
   "cell_type": "code",
   "execution_count": null,
   "id": "5752ce84-6da9-4834-82dd-0e9c19510983",
   "metadata": {},
   "outputs": [],
   "source": []
  },
  {
   "cell_type": "code",
   "execution_count": null,
   "id": "051b74da-ac68-4cbf-b70f-4e1c45c3e3a3",
   "metadata": {},
   "outputs": [],
   "source": []
  }
 ],
 "metadata": {
  "kernelspec": {
   "display_name": "Python 3",
   "language": "python",
   "name": "python3"
  },
  "language_info": {
   "codemirror_mode": {
    "name": "ipython",
    "version": 3
   },
   "file_extension": ".py",
   "mimetype": "text/x-python",
   "name": "python",
   "nbconvert_exporter": "python",
   "pygments_lexer": "ipython3",
   "version": "3.8.8"
  }
 },
 "nbformat": 4,
 "nbformat_minor": 5
}
