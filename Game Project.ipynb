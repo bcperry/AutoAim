{
 "cells": [
  {
   "cell_type": "code",
   "execution_count": 1,
   "id": "f669dbdb-d9c0-49f5-bff3-ec29f8e055dc",
   "metadata": {},
   "outputs": [],
   "source": [
    "# mss, pyautogui"
   ]
  },
  {
   "cell_type": "code",
   "execution_count": 2,
   "id": "46bd678d-cb7c-4419-8e26-e9c6e5b9236d",
   "metadata": {},
   "outputs": [],
   "source": [
    "import numpy as np\n",
    "import cv2\n",
    "from mss import mss\n",
    "from PIL import Image\n",
    "\n",
    "import torch\n",
    "import torchvision.transforms as transforms\n",
    "from model.model import Yolov1\n",
    "import autopy\n",
    "\n",
    "import time\n",
    "\n",
    "from model.utils import (\n",
    "    load_checkpoint,\n",
    ")\n",
    "import torch.optim as optim\n",
    "\n",
    "DEVICE = 'cuda'\n",
    "LOAD_MODEL_FILE = \"model/halo_model.pth.tar\"\n",
    "LEARNING_RATE = 2e-5\n",
    "WEIGHT_DECAY = 0"
   ]
  },
  {
   "cell_type": "code",
   "execution_count": 3,
   "outputs": [],
   "source": [
    "class Compose(object):\n",
    "    def __init__(self, transforms):\n",
    "        self.transforms = transforms\n",
    "\n",
    "    def __call__(self, img):\n",
    "        for t in self.transforms:\n",
    "            img = t(img)\n",
    "        return img"
   ],
   "metadata": {
    "collapsed": false,
    "pycharm": {
     "name": "#%%\n"
    }
   }
  },
  {
   "cell_type": "code",
   "execution_count": 4,
   "outputs": [
    {
     "name": "stdout",
     "output_type": "stream",
     "text": [
      "=> Loading checkpoint\n"
     ]
    },
    {
     "data": {
      "text/plain": "Yolov1(\n  (darknet): Sequential(\n    (0): CNNBlock(\n      (conv): Conv2d(3, 64, kernel_size=(7, 7), stride=(2, 2), padding=(3, 3), bias=False)\n      (batchnorm): BatchNorm2d(64, eps=1e-05, momentum=0.1, affine=True, track_running_stats=True)\n      (leakyrelu): LeakyReLU(negative_slope=0.1)\n    )\n    (1): MaxPool2d(kernel_size=(2, 2), stride=(2, 2), padding=0, dilation=1, ceil_mode=False)\n    (2): CNNBlock(\n      (conv): Conv2d(64, 192, kernel_size=(3, 3), stride=(1, 1), padding=(1, 1), bias=False)\n      (batchnorm): BatchNorm2d(192, eps=1e-05, momentum=0.1, affine=True, track_running_stats=True)\n      (leakyrelu): LeakyReLU(negative_slope=0.1)\n    )\n    (3): MaxPool2d(kernel_size=(2, 2), stride=(2, 2), padding=0, dilation=1, ceil_mode=False)\n    (4): CNNBlock(\n      (conv): Conv2d(192, 128, kernel_size=(1, 1), stride=(1, 1), bias=False)\n      (batchnorm): BatchNorm2d(128, eps=1e-05, momentum=0.1, affine=True, track_running_stats=True)\n      (leakyrelu): LeakyReLU(negative_slope=0.1)\n    )\n    (5): CNNBlock(\n      (conv): Conv2d(128, 256, kernel_size=(3, 3), stride=(1, 1), padding=(1, 1), bias=False)\n      (batchnorm): BatchNorm2d(256, eps=1e-05, momentum=0.1, affine=True, track_running_stats=True)\n      (leakyrelu): LeakyReLU(negative_slope=0.1)\n    )\n    (6): CNNBlock(\n      (conv): Conv2d(256, 256, kernel_size=(1, 1), stride=(1, 1), bias=False)\n      (batchnorm): BatchNorm2d(256, eps=1e-05, momentum=0.1, affine=True, track_running_stats=True)\n      (leakyrelu): LeakyReLU(negative_slope=0.1)\n    )\n    (7): CNNBlock(\n      (conv): Conv2d(256, 512, kernel_size=(3, 3), stride=(1, 1), padding=(1, 1), bias=False)\n      (batchnorm): BatchNorm2d(512, eps=1e-05, momentum=0.1, affine=True, track_running_stats=True)\n      (leakyrelu): LeakyReLU(negative_slope=0.1)\n    )\n    (8): MaxPool2d(kernel_size=(2, 2), stride=(2, 2), padding=0, dilation=1, ceil_mode=False)\n    (9): CNNBlock(\n      (conv): Conv2d(512, 256, kernel_size=(1, 1), stride=(1, 1), bias=False)\n      (batchnorm): BatchNorm2d(256, eps=1e-05, momentum=0.1, affine=True, track_running_stats=True)\n      (leakyrelu): LeakyReLU(negative_slope=0.1)\n    )\n    (10): CNNBlock(\n      (conv): Conv2d(256, 512, kernel_size=(3, 3), stride=(1, 1), padding=(1, 1), bias=False)\n      (batchnorm): BatchNorm2d(512, eps=1e-05, momentum=0.1, affine=True, track_running_stats=True)\n      (leakyrelu): LeakyReLU(negative_slope=0.1)\n    )\n    (11): CNNBlock(\n      (conv): Conv2d(512, 256, kernel_size=(1, 1), stride=(1, 1), bias=False)\n      (batchnorm): BatchNorm2d(256, eps=1e-05, momentum=0.1, affine=True, track_running_stats=True)\n      (leakyrelu): LeakyReLU(negative_slope=0.1)\n    )\n    (12): CNNBlock(\n      (conv): Conv2d(256, 512, kernel_size=(3, 3), stride=(1, 1), padding=(1, 1), bias=False)\n      (batchnorm): BatchNorm2d(512, eps=1e-05, momentum=0.1, affine=True, track_running_stats=True)\n      (leakyrelu): LeakyReLU(negative_slope=0.1)\n    )\n    (13): CNNBlock(\n      (conv): Conv2d(512, 256, kernel_size=(1, 1), stride=(1, 1), bias=False)\n      (batchnorm): BatchNorm2d(256, eps=1e-05, momentum=0.1, affine=True, track_running_stats=True)\n      (leakyrelu): LeakyReLU(negative_slope=0.1)\n    )\n    (14): CNNBlock(\n      (conv): Conv2d(256, 512, kernel_size=(3, 3), stride=(1, 1), padding=(1, 1), bias=False)\n      (batchnorm): BatchNorm2d(512, eps=1e-05, momentum=0.1, affine=True, track_running_stats=True)\n      (leakyrelu): LeakyReLU(negative_slope=0.1)\n    )\n    (15): CNNBlock(\n      (conv): Conv2d(512, 256, kernel_size=(1, 1), stride=(1, 1), bias=False)\n      (batchnorm): BatchNorm2d(256, eps=1e-05, momentum=0.1, affine=True, track_running_stats=True)\n      (leakyrelu): LeakyReLU(negative_slope=0.1)\n    )\n    (16): CNNBlock(\n      (conv): Conv2d(256, 512, kernel_size=(3, 3), stride=(1, 1), padding=(1, 1), bias=False)\n      (batchnorm): BatchNorm2d(512, eps=1e-05, momentum=0.1, affine=True, track_running_stats=True)\n      (leakyrelu): LeakyReLU(negative_slope=0.1)\n    )\n    (17): CNNBlock(\n      (conv): Conv2d(512, 512, kernel_size=(1, 1), stride=(1, 1), bias=False)\n      (batchnorm): BatchNorm2d(512, eps=1e-05, momentum=0.1, affine=True, track_running_stats=True)\n      (leakyrelu): LeakyReLU(negative_slope=0.1)\n    )\n    (18): CNNBlock(\n      (conv): Conv2d(512, 1024, kernel_size=(3, 3), stride=(1, 1), padding=(1, 1), bias=False)\n      (batchnorm): BatchNorm2d(1024, eps=1e-05, momentum=0.1, affine=True, track_running_stats=True)\n      (leakyrelu): LeakyReLU(negative_slope=0.1)\n    )\n    (19): MaxPool2d(kernel_size=(2, 2), stride=(2, 2), padding=0, dilation=1, ceil_mode=False)\n    (20): CNNBlock(\n      (conv): Conv2d(1024, 512, kernel_size=(1, 1), stride=(1, 1), bias=False)\n      (batchnorm): BatchNorm2d(512, eps=1e-05, momentum=0.1, affine=True, track_running_stats=True)\n      (leakyrelu): LeakyReLU(negative_slope=0.1)\n    )\n    (21): CNNBlock(\n      (conv): Conv2d(512, 1024, kernel_size=(3, 3), stride=(1, 1), padding=(1, 1), bias=False)\n      (batchnorm): BatchNorm2d(1024, eps=1e-05, momentum=0.1, affine=True, track_running_stats=True)\n      (leakyrelu): LeakyReLU(negative_slope=0.1)\n    )\n    (22): CNNBlock(\n      (conv): Conv2d(1024, 512, kernel_size=(1, 1), stride=(1, 1), bias=False)\n      (batchnorm): BatchNorm2d(512, eps=1e-05, momentum=0.1, affine=True, track_running_stats=True)\n      (leakyrelu): LeakyReLU(negative_slope=0.1)\n    )\n    (23): CNNBlock(\n      (conv): Conv2d(512, 1024, kernel_size=(3, 3), stride=(1, 1), padding=(1, 1), bias=False)\n      (batchnorm): BatchNorm2d(1024, eps=1e-05, momentum=0.1, affine=True, track_running_stats=True)\n      (leakyrelu): LeakyReLU(negative_slope=0.1)\n    )\n    (24): CNNBlock(\n      (conv): Conv2d(1024, 1024, kernel_size=(3, 3), stride=(1, 1), padding=(1, 1), bias=False)\n      (batchnorm): BatchNorm2d(1024, eps=1e-05, momentum=0.1, affine=True, track_running_stats=True)\n      (leakyrelu): LeakyReLU(negative_slope=0.1)\n    )\n    (25): CNNBlock(\n      (conv): Conv2d(1024, 1024, kernel_size=(3, 3), stride=(2, 2), padding=(1, 1), bias=False)\n      (batchnorm): BatchNorm2d(1024, eps=1e-05, momentum=0.1, affine=True, track_running_stats=True)\n      (leakyrelu): LeakyReLU(negative_slope=0.1)\n    )\n    (26): CNNBlock(\n      (conv): Conv2d(1024, 1024, kernel_size=(3, 3), stride=(1, 1), padding=(1, 1), bias=False)\n      (batchnorm): BatchNorm2d(1024, eps=1e-05, momentum=0.1, affine=True, track_running_stats=True)\n      (leakyrelu): LeakyReLU(negative_slope=0.1)\n    )\n    (27): CNNBlock(\n      (conv): Conv2d(1024, 1024, kernel_size=(3, 3), stride=(1, 1), padding=(1, 1), bias=False)\n      (batchnorm): BatchNorm2d(1024, eps=1e-05, momentum=0.1, affine=True, track_running_stats=True)\n      (leakyrelu): LeakyReLU(negative_slope=0.1)\n    )\n  )\n  (fcs): Sequential(\n    (0): Flatten(start_dim=1, end_dim=-1)\n    (1): Linear(in_features=50176, out_features=496, bias=True)\n    (2): Dropout(p=0.0, inplace=False)\n    (3): LeakyReLU(negative_slope=0.1)\n    (4): Linear(in_features=496, out_features=1470, bias=True)\n  )\n)"
     },
     "execution_count": 4,
     "metadata": {},
     "output_type": "execute_result"
    }
   ],
   "source": [
    "# transforms needed for the images\n",
    "transform = Compose([transforms.Resize((448, 448)), transforms.ToTensor(),])\n",
    "\n",
    "#create the model\n",
    "model = Yolov1(split_size=7, num_boxes=2, num_classes=20).to(DEVICE)\n",
    "\n",
    "optimizer = optim.Adam(\n",
    "        model.parameters(), lr=LEARNING_RATE, weight_decay=WEIGHT_DECAY\n",
    "    )\n",
    "\n",
    "# load the trained weights\n",
    "load_checkpoint(torch.load(LOAD_MODEL_FILE), model, optimizer)\n",
    "\n",
    "model.eval()"
   ],
   "metadata": {
    "collapsed": false,
    "pycharm": {
     "name": "#%%\n"
    }
   }
  },
  {
   "cell_type": "code",
   "execution_count": 39,
   "outputs": [
    {
     "name": "stdout",
     "output_type": "stream",
     "text": [
      "[[0.0, 0.6207857131958008, 0.5028741955757141, 0.4885517656803131, 0.042063526809215546, 0.12061677128076553]]\n",
      "[321.83948516845703, 312.6731300354004]\n",
      "[[0.0, 0.6207857131958008, 0.5028741955757141, 0.4885517656803131, 0.042063526809215546, 0.12061677128076553]]\n",
      "[321.83948516845703, 312.6731300354004]\n",
      "[[0.0, 0.6207857131958008, 0.5028741955757141, 0.4885517656803131, 0.042063526809215546, 0.12061677128076553]]\n",
      "[321.83948516845703, 312.6731300354004]\n",
      "[[0.0, 0.6207857131958008, 0.5028741955757141, 0.4885517656803131, 0.042063526809215546, 0.12061677128076553]]\n",
      "[321.83948516845703, 312.6731300354004]\n",
      "[[0.0, 0.6207857131958008, 0.5028741955757141, 0.4885517656803131, 0.042063526809215546, 0.12061677128076553]]\n",
      "[321.83948516845703, 312.6731300354004]\n",
      "[[0.0, 0.6207857131958008, 0.5028741955757141, 0.4885517656803131, 0.042063526809215546, 0.12061677128076553]]\n",
      "[321.83948516845703, 312.6731300354004]\n",
      "[[0.0, 0.6207857131958008, 0.5028741955757141, 0.4885517656803131, 0.042063526809215546, 0.12061677128076553]]\n",
      "[321.83948516845703, 312.6731300354004]\n",
      "[[0.0, 0.6207857131958008, 0.5028741955757141, 0.4885517656803131, 0.042063526809215546, 0.12061677128076553]]\n",
      "[321.83948516845703, 312.6731300354004]\n",
      "[[0.0, 0.6207857131958008, 0.5028741955757141, 0.4885517656803131, 0.042063526809215546, 0.12061677128076553]]\n",
      "[321.83948516845703, 312.6731300354004]\n",
      "[[0.0, 0.6207857131958008, 0.5028741955757141, 0.4885517656803131, 0.042063526809215546, 0.12061677128076553]]\n",
      "[321.83948516845703, 312.6731300354004]\n",
      "[[0.0, 0.6207857131958008, 0.5028741955757141, 0.4885517656803131, 0.042063526809215546, 0.12061677128076553]]\n",
      "[321.83948516845703, 312.6731300354004]\n",
      "[[0.0, 0.6207857131958008, 0.5028741955757141, 0.4885517656803131, 0.042063526809215546, 0.12061677128076553]]\n",
      "[321.83948516845703, 312.6731300354004]\n",
      "[[0.0, 0.6207857131958008, 0.5028741955757141, 0.4885517656803131, 0.042063526809215546, 0.12061677128076553]]\n",
      "[321.83948516845703, 312.6731300354004]\n",
      "[[0.0, 0.6207857131958008, 0.5028741955757141, 0.4885517656803131, 0.042063526809215546, 0.12061677128076553]]\n",
      "[321.83948516845703, 312.6731300354004]\n",
      "[[0.0, 0.6207857131958008, 0.5028741955757141, 0.4885517656803131, 0.042063526809215546, 0.12061677128076553]]\n",
      "[321.83948516845703, 312.6731300354004]\n",
      "[[0.0, 0.6207857131958008, 0.5028741955757141, 0.4885517656803131, 0.042063526809215546, 0.12061677128076553]]\n",
      "[321.83948516845703, 312.6731300354004]\n",
      "[[0.0, 0.6207857131958008, 0.5028741955757141, 0.4885517656803131, 0.042063526809215546, 0.12061677128076553]]\n",
      "[321.83948516845703, 312.6731300354004]\n",
      "[[0.0, 0.6207857131958008, 0.5028741955757141, 0.4885517656803131, 0.042063526809215546, 0.12061677128076553]]\n",
      "[321.83948516845703, 312.6731300354004]\n",
      "[[0.0, 0.6207857131958008, 0.5028741955757141, 0.4885517656803131, 0.042063526809215546, 0.12061677128076553]]\n",
      "[321.83948516845703, 312.6731300354004]\n",
      "[[0.0, 0.6207857131958008, 0.5028741955757141, 0.4885517656803131, 0.042063526809215546, 0.12061677128076553]]\n",
      "[321.83948516845703, 312.6731300354004]\n",
      "[[0.0, 0.6207857131958008, 0.5028741955757141, 0.4885517656803131, 0.042063526809215546, 0.12061677128076553]]\n",
      "[321.83948516845703, 312.6731300354004]\n",
      "[[0.0, 0.6207857131958008, 0.5028741955757141, 0.4885517656803131, 0.042063526809215546, 0.12061677128076553]]\n",
      "[321.83948516845703, 312.6731300354004]\n",
      "[[0.0, 0.6207857131958008, 0.5028741955757141, 0.4885517656803131, 0.042063526809215546, 0.12061677128076553]]\n",
      "[321.83948516845703, 312.6731300354004]\n",
      "[[0.0, 0.6207857131958008, 0.5028741955757141, 0.4885517656803131, 0.042063526809215546, 0.12061677128076553]]\n",
      "[321.83948516845703, 312.6731300354004]\n",
      "[[0.0, 0.6207857131958008, 0.5028741955757141, 0.4885517656803131, 0.042063526809215546, 0.12061677128076553]]\n",
      "[321.83948516845703, 312.6731300354004]\n",
      "[[0.0, 0.6207857131958008, 0.5028741955757141, 0.4885517656803131, 0.042063526809215546, 0.12061677128076553]]\n",
      "[321.83948516845703, 312.6731300354004]\n",
      "[[0.0, 0.6207857131958008, 0.5028741955757141, 0.4885517656803131, 0.042063526809215546, 0.12061677128076553]]\n",
      "[321.83948516845703, 312.6731300354004]\n",
      "[[0.0, 0.6207857131958008, 0.5028741955757141, 0.4885517656803131, 0.042063526809215546, 0.12061677128076553]]\n",
      "[321.83948516845703, 312.6731300354004]\n",
      "[[0.0, 0.6207857131958008, 0.5028741955757141, 0.4885517656803131, 0.042063526809215546, 0.12061677128076553]]\n",
      "[321.83948516845703, 312.6731300354004]\n",
      "[[0.0, 0.6207857131958008, 0.5028741955757141, 0.4885517656803131, 0.042063526809215546, 0.12061677128076553]]\n",
      "[321.83948516845703, 312.6731300354004]\n",
      "[[0.0, 0.6207857131958008, 0.5028741955757141, 0.4885517656803131, 0.042063526809215546, 0.12061677128076553]]\n",
      "[321.83948516845703, 312.6731300354004]\n",
      "[[0.0, 0.6207857131958008, 0.5028741955757141, 0.4885517656803131, 0.042063526809215546, 0.12061677128076553]]\n",
      "[321.83948516845703, 312.6731300354004]\n",
      "[[0.0, 0.6207857131958008, 0.5028741955757141, 0.4885517656803131, 0.042063526809215546, 0.12061677128076553]]\n",
      "[321.83948516845703, 312.6731300354004]\n",
      "[[0.0, 0.6207857131958008, 0.5028741955757141, 0.4885517656803131, 0.042063526809215546, 0.12061677128076553]]\n",
      "[321.83948516845703, 312.6731300354004]\n",
      "[[0.0, 0.6207857131958008, 0.5028741955757141, 0.4885517656803131, 0.042063526809215546, 0.12061677128076553]]\n",
      "[321.83948516845703, 312.6731300354004]\n",
      "[[0.0, 0.6207857131958008, 0.5028741955757141, 0.4885517656803131, 0.042063526809215546, 0.12061677128076553]]\n",
      "[321.83948516845703, 312.6731300354004]\n",
      "[[0.0, 0.6207857131958008, 0.5028741955757141, 0.4885517656803131, 0.042063526809215546, 0.12061677128076553]]\n",
      "[321.83948516845703, 312.6731300354004]\n",
      "[[0.0, 0.6207857131958008, 0.5028741955757141, 0.4885517656803131, 0.042063526809215546, 0.12061677128076553]]\n",
      "[321.83948516845703, 312.6731300354004]\n",
      "[[0.0, 0.6207857131958008, 0.5028741955757141, 0.4885517656803131, 0.042063526809215546, 0.12061677128076553]]\n",
      "[321.83948516845703, 312.6731300354004]\n",
      "[[0.0, 0.6207857131958008, 0.5028741955757141, 0.4885517656803131, 0.042063526809215546, 0.12061677128076553]]\n",
      "[321.83948516845703, 312.6731300354004]\n",
      "[[0.0, 0.6207857131958008, 0.5028741955757141, 0.4885517656803131, 0.042063526809215546, 0.12061677128076553]]\n",
      "[321.83948516845703, 312.6731300354004]\n",
      "[[0.0, 0.6207857131958008, 0.5028741955757141, 0.4885517656803131, 0.042063526809215546, 0.12061677128076553]]\n",
      "[321.83948516845703, 312.6731300354004]\n",
      "[[0.0, 0.6207857131958008, 0.5028741955757141, 0.4885517656803131, 0.042063526809215546, 0.12061677128076553]]\n",
      "[321.83948516845703, 312.6731300354004]\n",
      "[[0.0, 0.6207857131958008, 0.5028741955757141, 0.4885517656803131, 0.042063526809215546, 0.12061677128076553]]\n",
      "[321.83948516845703, 312.6731300354004]\n",
      "[[0.0, 0.6207857131958008, 0.5028741955757141, 0.4885517656803131, 0.042063526809215546, 0.12061677128076553]]\n",
      "[321.83948516845703, 312.6731300354004]\n",
      "[[0.0, 0.6207857131958008, 0.5028741955757141, 0.4885517656803131, 0.042063526809215546, 0.12061677128076553]]\n",
      "[321.83948516845703, 312.6731300354004]\n",
      "[[0.0, 0.6207857131958008, 0.5028741955757141, 0.4885517656803131, 0.042063526809215546, 0.12061677128076553]]\n",
      "[321.83948516845703, 312.6731300354004]\n",
      "[[0.0, 0.6207857131958008, 0.5028741955757141, 0.4885517656803131, 0.042063526809215546, 0.12061677128076553]]\n",
      "[321.83948516845703, 312.6731300354004]\n",
      "[[0.0, 0.6207857131958008, 0.5028741955757141, 0.4885517656803131, 0.042063526809215546, 0.12061677128076553]]\n",
      "[321.83948516845703, 312.6731300354004]\n",
      "[[0.0, 0.6207857131958008, 0.5028741955757141, 0.4885517656803131, 0.042063526809215546, 0.12061677128076553]]\n",
      "[321.83948516845703, 312.6731300354004]\n",
      "[[0.0, 0.6207857131958008, 0.5028741955757141, 0.4885517656803131, 0.042063526809215546, 0.12061677128076553]]\n",
      "[321.83948516845703, 312.6731300354004]\n",
      "[[0.0, 0.6207857131958008, 0.5028741955757141, 0.4885517656803131, 0.042063526809215546, 0.12061677128076553]]\n",
      "[321.83948516845703, 312.6731300354004]\n",
      "[[0.0, 0.6207857131958008, 0.5028741955757141, 0.4885517656803131, 0.042063526809215546, 0.12061677128076553]]\n",
      "[321.83948516845703, 312.6731300354004]\n",
      "[[0.0, 0.6207857131958008, 0.5028741955757141, 0.4885517656803131, 0.042063526809215546, 0.12061677128076553]]\n",
      "[321.83948516845703, 312.6731300354004]\n",
      "[[0.0, 0.6207857131958008, 0.5028741955757141, 0.4885517656803131, 0.042063526809215546, 0.12061677128076553]]\n",
      "[321.83948516845703, 312.6731300354004]\n",
      "[[0.0, 0.6207857131958008, 0.5028741955757141, 0.4885517656803131, 0.042063526809215546, 0.12061677128076553]]\n",
      "[321.83948516845703, 312.6731300354004]\n",
      "[[0.0, 0.6207857131958008, 0.5028741955757141, 0.4885517656803131, 0.042063526809215546, 0.12061677128076553]]\n",
      "[321.83948516845703, 312.6731300354004]\n",
      "[[0.0, 0.6207857131958008, 0.5028741955757141, 0.4885517656803131, 0.042063526809215546, 0.12061677128076553]]\n",
      "[321.83948516845703, 312.6731300354004]\n",
      "[[0.0, 0.6207857131958008, 0.5028741955757141, 0.4885517656803131, 0.042063526809215546, 0.12061677128076553]]\n",
      "[321.83948516845703, 312.6731300354004]\n",
      "[[0.0, 0.6207857131958008, 0.5028741955757141, 0.4885517656803131, 0.042063526809215546, 0.12061677128076553]]\n",
      "[321.83948516845703, 312.6731300354004]\n",
      "[[0.0, 0.6207857131958008, 0.5028741955757141, 0.4885517656803131, 0.042063526809215546, 0.12061677128076553]]\n",
      "[321.83948516845703, 312.6731300354004]\n",
      "[[0.0, 0.6207857131958008, 0.5028741955757141, 0.4885517656803131, 0.042063526809215546, 0.12061677128076553]]\n",
      "[321.83948516845703, 312.6731300354004]\n",
      "[[0.0, 0.6207857131958008, 0.5028741955757141, 0.4885517656803131, 0.042063526809215546, 0.12061677128076553]]\n",
      "[321.83948516845703, 312.6731300354004]\n",
      "[[0.0, 0.6207857131958008, 0.5028741955757141, 0.4885517656803131, 0.042063526809215546, 0.12061677128076553]]\n",
      "[321.83948516845703, 312.6731300354004]\n",
      "[[0.0, 0.6207857131958008, 0.5028741955757141, 0.4885517656803131, 0.042063526809215546, 0.12061677128076553]]\n",
      "[321.83948516845703, 312.6731300354004]\n",
      "[[0.0, 0.6207857131958008, 0.5028741955757141, 0.4885517656803131, 0.042063526809215546, 0.12061677128076553]]\n",
      "[321.83948516845703, 312.6731300354004]\n",
      "[[0.0, 0.6207857131958008, 0.5028741955757141, 0.4885517656803131, 0.042063526809215546, 0.12061677128076553]]\n",
      "[321.83948516845703, 312.6731300354004]\n"
     ]
    }
   ],
   "source": [
    "show = True\n",
    "dbg = True\n",
    "\n",
    "\n",
    "import model.utils as utils\n",
    "\n",
    "#centering is how much of the screen to account for, from the center\n",
    "centering = .5\n",
    "\n",
    "sct = mss()\n",
    "\n",
    "w, h = autopy.screen.size()\n",
    "\n",
    "x_center = w/2\n",
    "y_center = h/2\n",
    "\n",
    "top = int(y_center - (y_center* centering))\n",
    "left = int(x_center - (x_center* centering))\n",
    "width = int(w)\n",
    "height = int(h)\n",
    "monitor = {'top': top, 'left': left, 'width': width, 'height': height}\n",
    "resize = (640, 640)\n",
    "\n",
    "while 1:\n",
    "    if dbg:\n",
    "        start = time.time()\n",
    "\n",
    "    img = Image.frombytes('RGB', (width,height), sct.grab(monitor).rgb)\n",
    "    img = img.resize(resize)\n",
    "    img_transform = transform(img).unsqueeze(0).cuda()\n",
    "    img = np.array(img)\n",
    "\n",
    "\n",
    "    boxes = utils.cellboxes_to_boxes(model(img_transform))\n",
    "    boxes = utils.non_max_suppression(boxes[0], iou_threshold=0.5, threshold=0.6, box_format=\"midpoint\")\n",
    "    if len(boxes) >0:\n",
    "        primary, secondary = utils.pick_targets(img, boxes)\n",
    "        print(boxes)\n",
    "\n",
    "        if dbg:\n",
    "            framerate = 1/(time.time() - start)\n",
    "\n",
    "        # add framerate to the cv2 image\n",
    "        cv2.putText(img, str(framerate), (50, 50), cv2.FONT_HERSHEY_SIMPLEX,\n",
    "                       1, (255, 0, 0), 2, cv2.LINE_AA)\n",
    "        for aimpoint in primary:\n",
    "            print(aimpoint)\n",
    "            cv2.circle(img,\n",
    "                (int(aimpoint[0]), int(aimpoint[1])),\n",
    "                radius=10,\n",
    "                color=(255, 0, 0),\n",
    "                thickness=5\n",
    "            )\n",
    "\n",
    "\n",
    "    if show:\n",
    "        cv2.imshow('test', cv2.cvtColor(np.array(img), cv2.COLOR_RGB2BGR))\n",
    "\n",
    "        if cv2.waitKey(1) & 0xFF == ord('q'):\n",
    "            cv2.destroyAllWindows()\n",
    "            break\n",
    "\n",
    "\n"
   ],
   "metadata": {
    "collapsed": false,
    "pycharm": {
     "name": "#%%\n"
    }
   }
  },
  {
   "cell_type": "code",
   "execution_count": null,
   "outputs": [],
   "source": [],
   "metadata": {
    "collapsed": false,
    "pycharm": {
     "name": "#%%\n"
    }
   }
  },
  {
   "cell_type": "code",
   "execution_count": 48,
   "outputs": [
    {
     "name": "stdout",
     "output_type": "stream",
     "text": [
      "[305.9856414794922, 343.13629150390625]\n",
      "[316.3752746582031, 333.47164154052734]\n",
      "[311.5298080444336, 332.52105712890625]\n",
      "[310.7513999938965, 329.5357894897461]\n"
     ]
    }
   ],
   "source": [
    "import glob\n",
    "# for img in glob.glob('C:/Users/blain/Documents\\Git\\AutoAim\\model\\halo_data/*.png'):\n",
    "for img in glob.glob('C:/Users/blain\\Documents\\Git\\AutoAim\\model\\halo_data/new/*'):\n",
    "\n",
    "    img = Image.open(img)\n",
    "    img = img.resize(resize)\n",
    "    img_transform = transform(img).unsqueeze(0).cuda()\n",
    "    img = np.array(img)\n",
    "\n",
    "\n",
    "    boxes = utils.cellboxes_to_boxes(model(img_transform))\n",
    "    boxes = utils.non_max_suppression(boxes[0], iou_threshold=0.5, threshold=0.4, box_format=\"midpoint\")\n",
    "    primary, secondary = utils.pick_targets(img, boxes)\n",
    "\n",
    "    # add aim points to image\n",
    "    for aimpoint in primary:\n",
    "        print(aimpoint)\n",
    "        cv2.circle(img,\n",
    "            (int(aimpoint[0]), int(aimpoint[1])),\n",
    "            radius=10,\n",
    "            color=(255, 0, 0),\n",
    "            thickness=5\n",
    "        )\n",
    "    cv2.imshow('test', cv2.cvtColor(np.array(img), cv2.COLOR_RGB2BGR))\n",
    "\n",
    "    if cv2.waitKey(0) & 0xFF == ord('q'):\n",
    "\n",
    "        break\n",
    "cv2.destroyAllWindows()"
   ],
   "metadata": {
    "collapsed": false,
    "pycharm": {
     "name": "#%%\n"
    }
   }
  },
  {
   "cell_type": "code",
   "execution_count": null,
   "outputs": [],
   "source": [],
   "metadata": {
    "collapsed": false,
    "pycharm": {
     "name": "#%%\n"
    }
   }
  },
  {
   "cell_type": "code",
   "execution_count": null,
   "outputs": [],
   "source": [],
   "metadata": {
    "collapsed": false,
    "pycharm": {
     "name": "#%%\n"
    }
   }
  },
  {
   "cell_type": "code",
   "execution_count": null,
   "outputs": [],
   "source": [],
   "metadata": {
    "collapsed": false,
    "pycharm": {
     "name": "#%%\n"
    }
   }
  },
  {
   "cell_type": "code",
   "execution_count": null,
   "outputs": [],
   "source": [],
   "metadata": {
    "collapsed": false,
    "pycharm": {
     "name": "#%%\n"
    }
   }
  },
  {
   "cell_type": "code",
   "execution_count": null,
   "outputs": [],
   "source": [],
   "metadata": {
    "collapsed": false,
    "pycharm": {
     "name": "#%%\n"
    }
   }
  },
  {
   "cell_type": "code",
   "execution_count": null,
   "outputs": [],
   "source": [
    "import autopy\n",
    "autopy.mouse.smooth_move(500, 500)"
   ],
   "metadata": {
    "collapsed": false,
    "pycharm": {
     "name": "#%%\n"
    }
   }
  },
  {
   "cell_type": "code",
   "execution_count": null,
   "id": "ff15562e-4d1b-42ae-8d2f-e04439d28b63",
   "metadata": {},
   "outputs": [],
   "source": [
    "import autopy\n",
    "autopy.mouse.smooth_move(500, 500)"
   ]
  },
  {
   "cell_type": "code",
   "execution_count": null,
   "id": "94c6e33a-7fc1-49d7-90e6-50f7ffa9cf59",
   "metadata": {},
   "outputs": [],
   "source": [
    "import pyautogui\n",
    "pyautogui.moveTo(100, 200, 0.25)   "
   ]
  },
  {
   "cell_type": "code",
   "execution_count": null,
   "id": "14b2704e-bcb6-497e-a4a9-f2220ed4ea9c",
   "metadata": {},
   "outputs": [],
   "source": [
    "\n",
    "import math\n",
    "import time\n",
    "import random\n",
    "import sys\n",
    "\n",
    "TWO_PI = math.pi * 2.0\n",
    "\n",
    "\n",
    "def sine_mouse_wave():\n",
    "    \"\"\"\n",
    "    Moves the mouse in a sine wave from the left edge of\n",
    "    the screen to the right.\n",
    "    \"\"\"\n",
    "    width, height = autopy.screen.size()\n",
    "    height /= 2\n",
    "    height -= 10  # Stay in the screen bounds.\n",
    "\n",
    "    for x in range(int(width)):\n",
    "        y = int(height * math.sin((TWO_PI * x) / width) + height)\n",
    "        autopy.mouse.move(x, y)\n",
    "        time.sleep(.00000001)\n",
    "\n",
    "\n",
    "sine_mouse_wave()"
   ]
  },
  {
   "cell_type": "code",
   "execution_count": null,
   "id": "9339b3c3-6106-4638-b26f-a481cc3b1adc",
   "metadata": {},
   "outputs": [],
   "source": [
    "import pyautogui\n",
    "import pydirectinput\n",
    "import autopy\n",
    "import math\n",
    "import time\n",
    "\n",
    "TWO_PI = math.pi * 2.0\n",
    "\n",
    "def sine_mouse_wave2():\n",
    "    \"\"\"\n",
    "    Moves the mouse in a sine wave from the left edge of\n",
    "    the screen to the right.\n",
    "    \"\"\"\n",
    "    width, height = autopy.screen.size()\n",
    "    height /= 2\n",
    "    height -= 10  # Stay in the screen bounds.\n",
    "\n",
    "    for x in range(int(width)):\n",
    "        y = int(height * math.sin((TWO_PI * x) / width) + height)\n",
    "        pydirectinput.moveTo(x, y, _pause=False)\n",
    "        #time.sleep(.00000001)\n",
    "\n",
    "\n",
    "sine_mouse_wave2()"
   ]
  },
  {
   "cell_type": "code",
   "execution_count": null,
   "id": "a5637a35-e60e-4210-9876-18209fa57380",
   "metadata": {},
   "outputs": [],
   "source": []
  },
  {
   "cell_type": "code",
   "execution_count": null,
   "id": "2e329d45-4108-48e6-92c8-17ea558d6626",
   "metadata": {},
   "outputs": [],
   "source": []
  },
  {
   "cell_type": "code",
   "execution_count": null,
   "id": "5752ce84-6da9-4834-82dd-0e9c19510983",
   "metadata": {},
   "outputs": [],
   "source": []
  },
  {
   "cell_type": "code",
   "execution_count": null,
   "id": "051b74da-ac68-4cbf-b70f-4e1c45c3e3a3",
   "metadata": {},
   "outputs": [],
   "source": []
  }
 ],
 "metadata": {
  "kernelspec": {
   "name": "autoaim",
   "language": "python",
   "display_name": "autoaim"
  },
  "language_info": {
   "codemirror_mode": {
    "name": "ipython",
    "version": 3
   },
   "file_extension": ".py",
   "mimetype": "text/x-python",
   "name": "python",
   "nbconvert_exporter": "python",
   "pygments_lexer": "ipython3",
   "version": "3.8.8"
  }
 },
 "nbformat": 4,
 "nbformat_minor": 5
}